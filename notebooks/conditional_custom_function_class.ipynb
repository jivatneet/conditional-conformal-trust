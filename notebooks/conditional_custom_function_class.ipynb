{
 "cells": [
  {
   "cell_type": "code",
   "execution_count": 2,
   "id": "04e94187",
   "metadata": {},
   "outputs": [],
   "source": [
    "# %load_ext autoreload\n",
    "# %autoreload 2\n",
    "import os, sys\n",
    "sys.path.append(os.getcwd())\n",
    "sys.path.append(os.path.dirname(os.getcwd())) \n",
    "\n",
    "import numpy as np\n",
    "import pandas as pd\n",
    "import torch\n",
    "from scipy.special import softmax\n",
    "from sklearn.preprocessing import PolynomialFeatures\n",
    "\n",
    "\n",
    "from core.conformal import compute_conformity_score, compute_conformity_score_softmax, compute_conformity_score_aps, compute_conformity_score_raps, compute_sets_split, compute_sets_cond\n",
    "from core.evaluation import aggregate_results_over_seeds\n",
    "from utils.model import get_image_classifier, split_test\n",
    "from utils.data import get_image_dataset"
   ]
  },
  {
   "cell_type": "markdown",
   "id": "6366da92",
   "metadata": {},
   "source": [
    "### Define Your Custom Function Class\n",
    "\n",
    "Create your custom function class that will generate features for conditional conformal prediction. The class should have a `compute_features` method that takes model outputs and returns features."
   ]
  },
  {
   "cell_type": "code",
   "execution_count": null,
   "id": "b60cd0ff",
   "metadata": {},
   "outputs": [],
   "source": [
    "class CustomFunctionClass:\n",
    "    def __init__(self):\n",
    "        \"\"\"Initialize your custom function class\"\"\"\n",
    "        pass\n",
    "        \n",
    "    def compute_features(self, logits, features=None):\n",
    "        \"\"\"Compute features for conditional conformal prediction\n",
    "        \n",
    "        Args:\n",
    "            logits: Model output logits of shape (n_samples, n_classes)\n",
    "            features: Optional model features of shape (n_samples, feature_dim)\n",
    "            \n",
    "        Returns:\n",
    "            phi: Features for conditional conformal prediction of shape (n_samples, n_features)\n",
    "        \"\"\"\n",
    "        # Example: Use maximum softmax probability as a feature\n",
    "        probs = softmax(logits, axis=1)\n",
    "        max_probs = np.max(probs, axis=1, keepdims=True)\n",
    "        return max_probs"
   ]
  },
  {
   "cell_type": "markdown",
   "id": "f0e18b64",
   "metadata": {},
   "source": [
    "### Configuration"
   ]
  },
  {
   "cell_type": "code",
   "execution_count": null,
   "id": "e9d05fc2",
   "metadata": {},
   "outputs": [],
   "source": [
    "# Set paths and parameters\n",
    "DATA_DIR = '../data'\n",
    "CACHE_DIR = '~/.cache'\n",
    "FEATURES_DIR = '../features'\n",
    "OUTPUT_DIR = '../outputs'\n",
    "\n",
    "# Model and dataset parameters\n",
    "dataset_name = 'imagenet'  \n",
    "model_name = 'resnet50'    \n",
    "batch_size = 64\n",
    "\n",
    "# Algorithm parameters\n",
    "alpha = 0.1              \n",
    "score_fn = 'aps'        \n",
    "scores_randomize = False  \n",
    "temp_scaling = True                  \n",
    "seed = 1                 "
   ]
  },
  {
   "cell_type": "markdown",
   "id": "e5ab05b8",
   "metadata": {},
   "source": [
    "### Load Model and Data"
   ]
  },
  {
   "cell_type": "code",
   "execution_count": null,
   "id": "2d6c6357",
   "metadata": {},
   "outputs": [],
   "source": [
    "device = torch.device(\"cuda\" if torch.cuda.is_available() else \"cpu\")\n",
    "print(\"Using device:\", device)\n",
    "\n",
    "# Load model\n",
    "model, preprocess = get_image_classifier(model_name, device=device)\n",
    "\n",
    "# Load dataset and compute/load features\n",
    "if dataset_name in [\"imagenet\", \"places\"]:\n",
    "    train_dataset, test_dataset = get_image_dataset(dataset_name, preprocess=preprocess)\n",
    "    test_features, test_logits, test_labels = model.run_and_cache_outputs(test_dataset, batch_size, FEATURES_DIR)\n",
    "    test_labels, test_features, test_logits, _, calib_labels, calib_features, calib_logits, _ = split_test(\n",
    "        test_labels, test_features, test_logits, split=0.5, seed=seed\n",
    "    )\n",
    "else:\n",
    "    train_dataset, val_dataset, test_dataset = get_image_dataset(dataset_name, preprocess=preprocess)\n",
    "    calib_features, calib_logits, calib_labels = model.run_and_cache_outputs(val_dataset, batch_size, FEATURES_DIR)\n",
    "    test_features, test_logits, test_labels = model.run_and_cache_outputs(test_dataset, batch_size, FEATURES_DIR)"
   ]
  },
  {
   "cell_type": "markdown",
   "id": "308fa040",
   "metadata": {},
   "source": [
    "### Compute Features using Custom Function Class"
   ]
  },
  {
   "cell_type": "code",
   "execution_count": null,
   "id": "ee3c9c40",
   "metadata": {},
   "outputs": [],
   "source": [
    "# Initialize your custom function class\n",
    "custom_function = CustomFunctionClass()\n",
    "\n",
    "# Compute features for calibration and test sets\n",
    "calib_phi = custom_function.compute_features(calib_logits, calib_features)\n",
    "test_phi = custom_function.compute_features(test_logits, test_features)"
   ]
  },
  {
   "cell_type": "markdown",
   "id": "1a60307b",
   "metadata": {},
   "source": [
    "### Compute conformity scores and prediction sets"
   ]
  },
  {
   "cell_type": "code",
   "execution_count": null,
   "id": "df7c5255",
   "metadata": {},
   "outputs": [],
   "source": [
    "# Compute conformity scores\n",
    "if score_fn == \"softmax\":\n",
    "    calib_scores, test_scores, test_scores_all = compute_conformity_score_softmax(\n",
    "        calib_logits, test_logits, calib_labels, test_labels, temp_scaling=temp_scaling\n",
    "    )\n",
    "elif score_fn == \"aps\":\n",
    "    calib_scores, test_scores, test_scores_all = compute_conformity_score_aps(\n",
    "        calib_logits, test_logits, calib_labels, test_labels, rand=scores_randomize, temp_scaling=temp_scaling\n",
    "    )\n",
    "elif score_fn == \"raps\":\n",
    "    calib_scores, test_scores, test_scores_all = compute_conformity_score_raps(\n",
    "        calib_logits, test_logits, calib_labels, test_labels, rand=scores_randomize, temp_scaling=temp_scaling\n",
    "    )\n",
    "\n",
    "# Compute prediction sets for split conformal\n",
    "coverages_split, prediction_sets_split, set_sizes_split = compute_sets_split(\n",
    "    calib_scores, test_scores, test_scores_all, alpha\n",
    ")\n",
    "\n",
    "# Compute prediction sets for conditional conformal\n",
    "coverages_cond, prediction_sets_cond, set_sizes_cond = compute_sets_cond(\n",
    "    calib_phi, calib_scores, test_phi, test_scores, test_scores_all, alpha, rand=scores_randomize\n",
    ")"
   ]
  },
  {
   "cell_type": "markdown",
   "id": "ac4482e5",
   "metadata": {},
   "source": [
    "### Save results"
   ]
  },
  {
   "cell_type": "code",
   "execution_count": null,
   "id": "b5e8dfb4",
   "metadata": {},
   "outputs": [],
   "source": [
    "# Setup output directory and save results\n",
    "results_dir = os.path.join(OUTPUT_DIR, f\"{dataset_name}_{model_name}\")\n",
    "os.makedirs(results_dir, exist_ok=True)\n",
    "\n",
    "res_fname = f\"alpha_{alpha}_score_fn_{score_fn}_scores_randomize_{scores_randomize}_temp_scale_{temp_scaling}_seed_{seed}\"\n",
    "\n",
    "np.save(os.path.join(results_dir, f\"{res_fname}_calib_phi.npy\"), calib_phi)\n",
    "np.save(os.path.join(results_dir, f\"{res_fname}_test_phi.npy\"), test_phi)\n",
    "np.save(os.path.join(results_dir, f\"{res_fname}_coverages_split.npy\"), coverages_split)\n",
    "np.save(os.path.join(results_dir, f\"{res_fname}_prediction_sets_split.npy\"), prediction_sets_split)\n",
    "np.save(os.path.join(results_dir, f\"{res_fname}_set_sizes_split.npy\"), set_sizes_split)\n",
    "np.save(os.path.join(results_dir, f\"{res_fname}_coverages_cond.npy\"), coverages_cond)\n",
    "np.save(os.path.join(results_dir, f\"{res_fname}_prediction_sets_cond.npy\"), prediction_sets_cond)\n",
    "np.save(os.path.join(results_dir, f\"{res_fname}_set_sizes_cond.npy\"), set_sizes_cond)"
   ]
  },
  {
   "cell_type": "markdown",
   "id": "49170ec5",
   "metadata": {},
   "source": []
  }
 ],
 "metadata": {
  "kernelspec": {
   "display_name": "conformal-trust",
   "language": "python",
   "name": "python3"
  },
  "language_info": {
   "codemirror_mode": {
    "name": "ipython",
    "version": 3
   },
   "file_extension": ".py",
   "mimetype": "text/x-python",
   "name": "python",
   "nbconvert_exporter": "python",
   "pygments_lexer": "ipython3",
   "version": "3.10.18"
  }
 },
 "nbformat": 4,
 "nbformat_minor": 5
}
