{
 "cells": [
  {
   "cell_type": "code",
   "execution_count": 1,
   "metadata": {},
   "outputs": [],
   "source": [
    "%load_ext autoreload\n",
    "%autoreload 2\n",
    "\n",
    "from utils.evaluation import *"
   ]
  },
  {
   "cell_type": "code",
   "execution_count": null,
   "metadata": {},
   "outputs": [],
   "source": [
    "# set default parameter values\n",
    "output_dir = \"./outputs\"\n",
    "features_dir = \"/path/to/precomputed/features\"\n",
    "alpha = 0.1\n",
    "scores_randomize = False\n",
    "temp_scaling = True\n",
    "use_binning = False\n",
    "degree = 5"
   ]
  },
  {
   "cell_type": "code",
   "execution_count": null,
   "metadata": {},
   "outputs": [],
   "source": [
    "datasets = {\n",
    "    'ImageNet': 'imagenet',\n",
    "    'ImageNet-LT': 'imagenet_lt',\n",
    "    'Places365': 'places',\n",
    "    'Places365-LT': 'places_lt',\n",
    "}\n",
    "\n",
    "score_fns = {\n",
    "    'APS': 'aps',\n",
    "}\n",
    "\n",
    "models = {\n",
    "    'ImageNet': 'resnet50',\n",
    "    'ImageNet-LT': 'resnext50_imagenet_lt',\n",
    "    'Places365': 'resnet152_places',\n",
    "    'Places365-LT': 'resnet152_places_lt',\n",
    "}\n",
    "\n",
    "methods = {\n",
    "    'split': '$\\mathsf{split}$',\n",
    "    'naive': '$\\mathsf{naive}$',\n",
    "    'conditional': '$\\mathsf{conditional}$',\n",
    "}\n",
    "\n",
    "trust_scores_dir = '../trust_scores/'"
   ]
  },
  {
   "cell_type": "code",
   "execution_count": null,
   "metadata": {},
   "outputs": [],
   "source": [
    "# aggregate results over all seeds and score functions\n",
    "horizontal_dict = {}\n",
    "for dataset, dataset_name in datasets.items():\n",
    "    for score_fn, score_fn_name in score_fns.items():\n",
    "        results_dir = os.path.join(output_dir, f\"{dataset_name}_{models[dataset]}\")\n",
    "        res_fname = f\"alpha_{alpha}_score_fn_{score_fn_name}_scores_randomize_{scores_randomize}_temp_scale_{temp_scaling}_use_binning_{use_binning}\"\n",
    "        df = aggregate_results_over_seeds(dataset_name, models[dataset], features_dir, results_dir, res_fname, trust_scores_dir, methods.keys(), score_fn_name, degree)\n",
    "    \n",
    "    display(df)\n",
    "            "
   ]
  }
 ],
 "metadata": {
  "kernelspec": {
   "display_name": "conformal-trust",
   "language": "python",
   "name": "python3"
  },
  "language_info": {
   "codemirror_mode": {
    "name": "ipython",
    "version": 3
   },
   "file_extension": ".py",
   "mimetype": "text/x-python",
   "name": "python",
   "nbconvert_exporter": "python",
   "pygments_lexer": "ipython3",
   "version": "3.10.18"
  }
 },
 "nbformat": 4,
 "nbformat_minor": 2
}
